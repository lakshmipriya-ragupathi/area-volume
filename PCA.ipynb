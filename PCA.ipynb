{
  "nbformat": 4,
  "nbformat_minor": 0,
  "metadata": {
    "colab": {
      "provenance": [],
      "mount_file_id": "1DOSKpnkrCoFwJZa_ak9otsDgfmHcIoww",
      "authorship_tag": "ABX9TyM4/Q9Q5dOxNbSm9f27fxRx",
      "include_colab_link": true
    },
    "kernelspec": {
      "name": "python3",
      "display_name": "Python 3"
    },
    "language_info": {
      "name": "python"
    }
  },
  "cells": [
    {
      "cell_type": "markdown",
      "metadata": {
        "id": "view-in-github",
        "colab_type": "text"
      },
      "source": [
        "<a href=\"https://colab.research.google.com/github/lakshmipriya-ragupathi/area-volume/blob/main/PCA.ipynb\" target=\"_parent\"><img src=\"https://colab.research.google.com/assets/colab-badge.svg\" alt=\"Open In Colab\"/></a>"
      ]
    },
    {
      "cell_type": "code",
      "execution_count": null,
      "metadata": {
        "id": "Ig4b-XaIk3Qv"
      },
      "outputs": [],
      "source": [
        "import numpy as np\n",
        "import pandas as pd\n",
        "from numpy import linalg as LA\n",
        "import matplotlib.pyplot as plt"
      ]
    },
    {
      "cell_type": "code",
      "source": [
        "from google.colab import drive\n",
        "drive.mount('/content/drive')"
      ],
      "metadata": {
        "colab": {
          "base_uri": "https://localhost:8080/"
        },
        "id": "QsqS5dDxnB6Q",
        "outputId": "0f54d6f7-c95a-4d97-87d9-55f6a18e937b"
      },
      "execution_count": null,
      "outputs": [
        {
          "output_type": "stream",
          "name": "stdout",
          "text": [
            "Mounted at /content/drive\n"
          ]
        }
      ]
    },
    {
      "cell_type": "markdown",
      "source": [
        "Generate Eigenvalue and Eigenvector"
      ],
      "metadata": {
        "id": "mfsPlZ255Eq8"
      }
    },
    {
      "cell_type": "code",
      "source": [
        "path = \"/content/drive/MyDrive/DAY2-ML/Book1.csv\"\n",
        "\n",
        "df = pd.read_csv(path)\n",
        "print(df.head(5))"
      ],
      "metadata": {
        "colab": {
          "base_uri": "https://localhost:8080/"
        },
        "id": "CU0WfGvBoMOl",
        "outputId": "a98f26b6-4457-46d8-d4a5-408849fb0690"
      },
      "execution_count": null,
      "outputs": [
        {
          "output_type": "stream",
          "name": "stdout",
          "text": [
            "      x1   x2     x3    x4\n",
            "0  77.60  136   9.65  12.6\n",
            "1  83.45  177   9.76  13.1\n",
            "2  76.20  164  10.52  13.9\n",
            "3  80.30  185   9.76  12.5\n",
            "4  82.30  187   9.77  13.4\n"
          ]
        }
      ]
    },
    {
      "cell_type": "code",
      "source": [
        "x = df.to_numpy()\n",
        "print(x)"
      ],
      "metadata": {
        "colab": {
          "base_uri": "https://localhost:8080/"
        },
        "id": "VyHOg-9xpHLV",
        "outputId": "61449dcd-0981-4b77-e557-d43985725c13"
      },
      "execution_count": null,
      "outputs": [
        {
          "output_type": "stream",
          "name": "stdout",
          "text": [
            "[[ 77.6  136.     9.65  12.6 ]\n",
            " [ 83.45 177.     9.76  13.1 ]\n",
            " [ 76.2  164.    10.52  13.9 ]\n",
            " [ 80.3  185.     9.76  12.5 ]\n",
            " [ 82.3  187.     9.77  13.4 ]\n",
            " [ 86.   171.     9.25  13.  ]\n",
            " [ 90.5  211.     9.75  12.9 ]\n",
            " [ 81.5  158.    10.38  13.6 ]\n",
            " [ 79.75 176.     9.31  12.  ]\n",
            " [ 86.85 175.    10.23  14.2 ]\n",
            " [ 72.9  139.    10.29  12.9 ]\n",
            " [ 73.5  124.     9.68  12.  ]\n",
            " [ 86.85 149.    10.33  13.5 ]\n",
            " [ 89.15 224.     9.7   13.  ]\n",
            " [ 78.05 149.     9.63  12.6 ]\n",
            " [ 65.55 166.     9.29  11.3 ]\n",
            " [ 67.1  132.     9.52  11.7 ]\n",
            " [ 66.25 173.     9.88  12.1 ]\n",
            " [ 80.45 155.    11.19  13.8 ]\n",
            " [ 78.3  202.    10.78  13.3 ]\n",
            " [ 77.8  155.    10.86  14.  ]\n",
            " [ 79.2  161.    10.68  14.3 ]\n",
            " [ 82.65 158.    10.64  12.2 ]\n",
            " [ 79.85 156.    10.83  13.7 ]\n",
            " [ 67.3  157.     9.78  11.8 ]\n",
            " [ 70.65 173.     9.97  12.2 ]\n",
            " [ 67.15 159.     9.99  12.3 ]\n",
            " [ 80.85 160.    10.47  12.7 ]\n",
            " [ 81.8  162.    10.87  13.9 ]\n",
            " [ 81.15 178.    11.07  13.8 ]]\n"
          ]
        }
      ]
    },
    {
      "cell_type": "code",
      "source": [
        "x_mean = np.mean(x,0)\n",
        "print(x_mean)"
      ],
      "metadata": {
        "colab": {
          "base_uri": "https://localhost:8080/"
        },
        "id": "SyWutJZ_rR40",
        "outputId": "b8eeb809-5119-4809-ffbc-5817e42e1a71"
      },
      "execution_count": null,
      "outputs": [
        {
          "output_type": "stream",
          "name": "stdout",
          "text": [
            "[ 78.365      165.73333333  10.12766667  12.94333333]\n"
          ]
        }
      ]
    },
    {
      "cell_type": "code",
      "source": [
        "c = np.cov(x.T)\n",
        "print(c)"
      ],
      "metadata": {
        "colab": {
          "base_uri": "https://localhost:8080/"
        },
        "id": "lAtaevzorYaM",
        "outputId": "0d9417c6-1b39-4db5-a709-bbdeba341b93"
      },
      "execution_count": null,
      "outputs": [
        {
          "output_type": "stream",
          "name": "stdout",
          "text": [
            "[[ 4.75479569e+01  7.05248276e+01  7.58398276e-01  3.36915517e+00]\n",
            " [ 7.05248276e+01  4.77995402e+02 -7.91678161e-01  2.89471264e+00]\n",
            " [ 7.58398276e-01 -7.91678161e-01  3.15128851e-01  3.23552874e-01]\n",
            " [ 3.36915517e+00  2.89471264e+00  3.23552874e-01  6.74954023e-01]]\n"
          ]
        }
      ]
    },
    {
      "cell_type": "code",
      "source": [
        "w,v = LA.eig(c)\n",
        "print(\"eigenvalues : \", w)\n",
        "print(\"eigenvectors : \\n\", v)"
      ],
      "metadata": {
        "colab": {
          "base_uri": "https://localhost:8080/"
        },
        "id": "pjvgR3HxrhYU",
        "outputId": "8f2908cf-8ce0-441a-bb3e-ce1e73c816e3"
      },
      "execution_count": null,
      "outputs": [
        {
          "output_type": "stream",
          "name": "stdout",
          "text": [
            "eigenvalues :  [4.89280087e+02 3.65396440e+01 6.22203694e-01 9.15073250e-02]\n",
            "eigenvectors : \n",
            " [[ 1.57703890e-01  9.83940357e-01 -7.79869693e-02 -3.01477895e-02]\n",
            " [ 9.87461161e-01 -1.57669244e-01  7.78021664e-03 -5.77866853e-04]\n",
            " [-1.34959505e-03  2.47595703e-02  6.14484812e-01 -7.88538876e-01]\n",
            " [ 6.93670265e-03  7.99296361e-02  7.85026061e-01  6.14245243e-01]]\n"
          ]
        }
      ]
    },
    {
      "cell_type": "code",
      "source": [
        "#three dimensional"
      ],
      "metadata": {
        "id": "Wa7jirlMsK0z"
      },
      "execution_count": null,
      "outputs": []
    },
    {
      "cell_type": "code",
      "source": [
        "A3 = np.array([v[:,2],v[:,1],v[:,0]])\n",
        "print(A3)"
      ],
      "metadata": {
        "colab": {
          "base_uri": "https://localhost:8080/"
        },
        "id": "WLrtBaeHsYh5",
        "outputId": "a75f664d-b2ef-42bc-8a98-ace040361489"
      },
      "execution_count": null,
      "outputs": [
        {
          "output_type": "stream",
          "name": "stdout",
          "text": [
            "[[-0.07798697  0.00778022  0.61448481  0.78502606]\n",
            " [ 0.98394036 -0.15766924  0.02475957  0.07992964]\n",
            " [ 0.15770389  0.98746116 -0.0013496   0.0069367 ]]\n"
          ]
        }
      ]
    },
    {
      "cell_type": "code",
      "source": [
        "Y_3d= np.matmul(A3,(x-x_mean).T)\n",
        "print(Y_3d)"
      ],
      "metadata": {
        "colab": {
          "base_uri": "https://localhost:8080/"
        },
        "id": "dkSajwMVvFWg",
        "outputId": "88ad1c2c-3efe-491a-c2df-9e7a7c306bbf"
      },
      "execution_count": null,
      "outputs": [
        {
          "output_type": "stream",
          "name": "stdout",
          "text": [
            "[[-7.34716269e-01 -4.11844797e-01  1.14744722e+00 -5.74959748e-01\n",
            "  -2.70494985e-03 -1.04928273e+00 -8.60275626e-01  3.65899290e-01\n",
            "  -1.27112006e+00  4.59775603e-01  2.83941234e-01 -9.60913387e-01\n",
            "  -2.30579792e-01 -6.06072035e-01 -6.80957285e-01 -8.03315202e-01\n",
            "  -7.33380439e-01  1.87122324e-01  1.07918287e+00  9.68073231e-01\n",
            "   1.24007356e+00  1.30247366e+00 -6.63056159e-01  8.34038128e-01\n",
            "  -3.16203760e-01 -2.22141019e-02  2.32609560e-01 -2.19068569e-01\n",
            "   9.10229442e-01  1.12979879e+00]\n",
            " [ 3.89604849e+00  3.23034894e+00 -1.77075749e+00 -1.17837492e+00\n",
            "   5.46351573e-01  6.66479197e+00  4.79014063e+00  4.36269663e+00\n",
            "  -3.51625545e-01  6.99064424e+00 -1.16165390e+00  1.70670896e+00\n",
            "   1.10365698e+01  1.41887596e+00  2.28862629e+00 -1.28033321e+01\n",
            "  -5.87980370e+00 -1.31397067e+01  3.83860817e+00 -5.73743432e+00\n",
            "   1.23898149e+00  1.69000470e+00  5.38876404e+00  3.07366830e+00\n",
            "  -9.61031628e+00 -8.80014782e+00 -1.00280815e+01  3.33808860e+00\n",
            "   4.06331284e+00  8.98002656e-01]\n",
            " [-2.94828923e+01  1.19289030e+01 -2.04692165e+00  1.93276630e+01\n",
            "   2.16242226e+01  6.40627556e+00  4.66130210e+01 -7.13775006e+00\n",
            "   1.03509144e+01  1.04971699e+01 -2.72604998e+01 -4.19832147e+01\n",
            "  -1.51818109e+01  5.92378770e+01 -1.65749034e+01 -1.76792118e+00\n",
            "  -3.50946953e+01  5.25945277e+00 -1.02654285e+01  3.58032677e+01\n",
            "  -1.06815111e+01 -4.53363471e+00 -6.96645286e+00 -9.37279745e+00\n",
            "  -1.03762828e+01  5.95392209e+00 -8.42183110e+00 -5.27169976e+00\n",
            "  -3.13917454e+00  1.25567329e+01]]\n"
          ]
        }
      ]
    },
    {
      "cell_type": "code",
      "source": [
        "x_3d_hat = np.matmul(A3.T,Y_3d).T + x_mean\n",
        "print(x_3d_hat)"
      ],
      "metadata": {
        "colab": {
          "base_uri": "https://localhost:8080/"
        },
        "id": "a4R47SgkvTqR",
        "outputId": "5f6dd226-2df1-4c93-901e-feeae9e173fc"
      },
      "execution_count": null,
      "outputs": [
        {
          "output_type": "stream",
          "name": "stdout",
          "text": [
            "[[ 77.60621083 136.00011905   9.81244913  12.4734576 ]\n",
            " [ 83.45682362 177.00013079   9.93847716  12.9609723 ]\n",
            " [ 76.2103868  164.00019909  10.79167488  13.68837442]\n",
            " [ 80.29843637 184.99997003   9.71910206  12.53185812]\n",
            " [ 82.31301235 187.00024942  10.110348    13.13488036]\n",
            " [ 86.01488275 171.00028527   9.63926987  12.69677187]\n",
            " [ 90.49635773 210.99993019   9.65473348  12.97420941]\n",
            " [ 81.50344696 158.00006607  10.47015779  13.52977012]\n",
            " [ 79.7505317  176.00001019   9.32390706  11.98916687]\n",
            " [ 86.86296502 175.00024851  10.56911021  13.93584456]\n",
            " [ 72.90077126 139.00001478  10.31017283  12.88428605]\n",
            " [ 73.49832227 123.99996784   9.6361177   12.03418283]\n",
            " [ 86.84807801 148.99996316  10.27972891  13.53915949]\n",
            " [ 89.1503987  224.00000764   9.71042822  12.99187677]\n",
            " [ 78.05605081 149.00011598   9.78826357  12.47671801]\n",
            " [ 65.5511249  166.00002156   9.31942265  11.27708074]\n",
            " [ 67.10224798 132.00004309   9.57879774  11.65419854]\n",
            " [ 66.25115534 173.00002215   9.91021887  12.07646052]\n",
            " [ 80.43890129 154.99978726  10.89970461  14.02613034]\n",
            " [ 78.29052434 201.99981837  10.53215664  13.49306163]\n",
            " [ 77.80285847 155.00005479  10.9347654   13.94176027]\n",
            " [ 79.21131602 161.0002169   10.97597931  14.06944208]\n",
            " [ 82.62029544 157.99943063   9.8630541   12.8052147 ]\n",
            " [ 79.84613556 155.99992593  10.72892262  13.77873588]\n",
            " [ 67.29730158 156.99994828   9.70942074  11.85497887]\n",
            " [ 70.6468685  172.99993998   9.88809318  12.26380266]\n",
            " [ 67.15166987 159.00003201  10.03367678  12.26597726]\n",
            " [ 80.83519702 159.99971626  10.08281666  13.00160279]\n",
            " [ 81.79701142 161.99994272  10.79183133  13.96089076]\n",
            " [ 81.1407171  177.99982207  10.82719852  13.98913418]]\n"
          ]
        }
      ]
    },
    {
      "cell_type": "code",
      "source": [
        "mse_1 = np.sum((x-x_3d_hat)**2)/30\n",
        "print(mse_1)"
      ],
      "metadata": {
        "colab": {
          "base_uri": "https://localhost:8080/"
        },
        "id": "QXGEN5d8viE1",
        "outputId": "209343bb-f923-433c-d4bb-b4a49e7356cb"
      },
      "execution_count": null,
      "outputs": [
        {
          "output_type": "stream",
          "name": "stdout",
          "text": [
            "0.08845708085951669\n"
          ]
        }
      ]
    },
    {
      "cell_type": "code",
      "source": [
        "#inverse transformation :"
      ],
      "metadata": {
        "id": "zdHlBP9T1gYK"
      },
      "execution_count": null,
      "outputs": []
    },
    {
      "cell_type": "code",
      "source": [
        "plt.figure()\n",
        "bw = 0.1\n",
        "list_dist = []\n",
        "#vector is in form [x1, x2, x3, x4] it has corresponding xhat so\n",
        "r1 = np.arange(len(x_3d_hat))\n",
        "r2 = [x + bw for x in r1]\n",
        "r3 = [x + bw for x in r2]\n",
        "r4 = [x + bw for x in r3]\n",
        "r5 = [x + bw for x in r4]\n",
        "r6 = [x + bw for x in r5]\n",
        "r7 = [x + bw for x in r6]\n",
        "r8 = [x + bw for x in r7]\n",
        "plt.bar(r1, x[:,0], bw, alpha = 0.5, color = 'r', label = 'original')\n",
        "plt.bar(r2, x_3d_hat[:,0], bw, alpha = 0.5, color = 'g', label = 'recovered')\n",
        "plt.bar(r3, x[:,1], bw, alpha = 0.5, color = 'r')\n",
        "plt.bar(r4, x_3d_hat[:,1], bw, alpha = 0.5, color = 'g')\n",
        "plt.bar(r5, x[:,2], bw, alpha = 0.5, color = 'r')\n",
        "plt.bar(r6, x_3d_hat[:,2], bw, alpha = 0.5, color = 'g')\n",
        "plt.bar(r7, x[:,3], bw, alpha = 0.5, color = 'r')\n",
        "plt.bar(r8, x_3d_hat[:,3], bw, alpha = 0.5, color = 'g')\n",
        "plt.show()"
      ],
      "metadata": {
        "colab": {
          "base_uri": "https://localhost:8080/",
          "height": 265
        },
        "id": "3aBW6qBb1jC9",
        "outputId": "f059c203-698b-4a5b-87a0-5fd6d567e4be"
      },
      "execution_count": null,
      "outputs": [
        {
          "output_type": "display_data",
          "data": {
            "text/plain": [
              "<Figure size 432x288 with 1 Axes>"
            ],
            "image/png": "[encoded data removed]"
          },
          "metadata": {
            "needs_background": "light"
          }
        }
      ]
    },
    {
      "cell_type": "code",
      "source": [
        "#two dimensional"
      ],
      "metadata": {
        "id": "5pyHy5pVsPh1"
      },
      "execution_count": null,
      "outputs": []
    },
    {
      "cell_type": "code",
      "source": [
        "A2 = np.array([v[:,1],v[:,0]])\n",
        "print(A2)"
      ],
      "metadata": {
        "colab": {
          "base_uri": "https://localhost:8080/"
        },
        "id": "hdCcFWifv-UX",
        "outputId": "b7da2994-0839-41b2-cb05-73809fe4cea3"
      },
      "execution_count": null,
      "outputs": [
        {
          "output_type": "stream",
          "name": "stdout",
          "text": [
            "[[ 0.98394036 -0.15766924  0.02475957  0.07992964]\n",
            " [ 0.15770389  0.98746116 -0.0013496   0.0069367 ]]\n"
          ]
        }
      ]
    },
    {
      "cell_type": "code",
      "source": [
        "Y_2d= np.matmul(A2,(x-x_mean).T)\n",
        "print(Y_2d)"
      ],
      "metadata": {
        "colab": {
          "base_uri": "https://localhost:8080/"
        },
        "id": "Ok6sozGuwsfA",
        "outputId": "b9067b78-4ac5-4380-ca83-2527ca56fc17"
      },
      "execution_count": null,
      "outputs": [
        {
          "output_type": "stream",
          "name": "stdout",
          "text": [
            "[[  3.89604849   3.23034894  -1.77075749  -1.17837492   0.54635157\n",
            "    6.66479197   4.79014063   4.36269663  -0.35162554   6.99064424\n",
            "   -1.1616539    1.70670896  11.0365698    1.41887596   2.28862629\n",
            "  -12.80333211  -5.8798037  -13.13970671   3.83860817  -5.73743432\n",
            "    1.23898149   1.6900047    5.38876404   3.0736683   -9.61031628\n",
            "   -8.80014782 -10.02808149   3.3380886    4.06331284   0.89800266]\n",
            " [-29.48289226  11.92890298  -2.04692165  19.32766299  21.62422262\n",
            "    6.40627556  46.61302102  -7.13775006  10.35091437  10.49716995\n",
            "  -27.2604998  -41.98321465 -15.18181088  59.23787701 -16.57490343\n",
            "   -1.76792118 -35.09469534   5.25945277 -10.26542846  35.80326771\n",
            "  -10.68151106  -4.53363471  -6.96645286  -9.37279745 -10.37628277\n",
            "    5.95392209  -8.4218311   -5.27169976  -3.13917454  12.55673291]]\n"
          ]
        }
      ]
    },
    {
      "cell_type": "code",
      "source": [
        "x_2d_hat = np.matmul(A2.T,Y_2d).T + x_mean\n",
        "print(x_2d_hat)"
      ],
      "metadata": {
        "colab": {
          "base_uri": "https://localhost:8080/"
        },
        "id": "-XG0Y5sAwzWQ",
        "outputId": "ac779435-f118-4479-a378-4fa35f0895e1"
      },
      "execution_count": null,
      "outputs": [
        {
          "output_type": "stream",
          "name": "stdout",
          "text": [
            "[[ 77.54891254 136.0058353   10.26392112  13.05022901]\n",
            " [ 83.4247051  177.00333504  10.19154953  13.2842812 ]\n",
            " [ 76.29987273 163.9912717   10.08658599  12.78759844]\n",
            " [ 80.253597   185.00444334  10.07240609  12.98321651]\n",
            " [ 82.31280139 187.00027046  10.11201015  13.13700382]\n",
            " [ 85.93305237 171.00844892  10.28403817  13.52048616]\n",
            " [ 90.42926744 211.00662332  10.18335979  13.6495482 ]\n",
            " [ 81.53198233 157.99721929  10.24531823  13.24252964]\n",
            " [ 79.6514009  176.00989978  10.10499103  12.98702925]\n",
            " [ 86.89882153 174.99667136  10.28658509  13.57490873]\n",
            " [ 72.92291497 138.99780566  10.13569525  12.66138478]\n",
            " [ 73.42338355 124.00744396  10.22658439  12.78852488]\n",
            " [ 86.83009579 149.00175712  10.42141669  13.72017063]\n",
            " [ 89.10313298 224.00472301  10.08285028  13.46765911]\n",
            " [ 78.00294501 149.00541398  10.20670148  13.01128722]\n",
            " [ 65.48847678 166.00627153   9.81304764  11.90770411]\n",
            " [ 67.04505387 132.00574895  10.02944888  12.2299213 ]\n",
            " [ 66.26574844 172.99856629   9.79523504  11.92956462]\n",
            " [ 80.52306349 154.99139099  10.23656313  13.17894366]\n",
            " [ 78.36602143 201.99228655   9.93729035  12.73309892]\n",
            " [ 77.89956804 154.99040675  10.17275903  12.96827021]\n",
            " [ 79.31289199 160.99008338  10.17562903  13.04696632]\n",
            " [ 82.5685857  158.00458935  10.27049204  13.32573107]\n",
            " [ 79.91117967 155.99343693  10.21641885  13.12399421]\n",
            " [ 67.27264181 157.00240841   9.90372314  12.10320706]\n",
            " [ 70.64513609 173.00011281   9.9017434   12.28124131]\n",
            " [ 67.16981039 158.99822225   9.89074174  12.08337269]\n",
            " [ 80.81811253 160.00142066  10.21743097  13.17357733]\n",
            " [ 81.86799745 161.99286093  10.23250916  13.24633693]\n",
            " [ 81.22882668 177.99103199  10.13295432  13.10221268]]\n"
          ]
        }
      ]
    },
    {
      "cell_type": "code",
      "source": [
        "mse_2 = np.sum((x-x_2d_hat)**2)/30\n",
        "print(mse_2)"
      ],
      "metadata": {
        "colab": {
          "base_uri": "https://localhost:8080/"
        },
        "id": "y5fm5hLDw80I",
        "outputId": "8829ddcb-95a6-4620-9113-f941ba337a19"
      },
      "execution_count": null,
      "outputs": [
        {
          "output_type": "stream",
          "name": "stdout",
          "text": [
            "0.6899206517901066\n"
          ]
        }
      ]
    },
    {
      "cell_type": "code",
      "source": [
        "#inverse transformation:"
      ],
      "metadata": {
        "id": "uJ01QJ_w5Nbw"
      },
      "execution_count": null,
      "outputs": []
    },
    {
      "cell_type": "code",
      "source": [
        "plt.figure()\n",
        "bw = 0.1\n",
        "list_dist = []\n",
        "#vector is in form [x1, x2, x3, x4] it has corresponding xhat so\n",
        "r1 = np.arange(len(x_2d_hat))\n",
        "r2 = [x + bw for x in r1]\n",
        "r3 = [x + bw for x in r2]\n",
        "r4 = [x + bw for x in r3]\n",
        "r5 = [x + bw for x in r4]\n",
        "r6 = [x + bw for x in r5]\n",
        "r7 = [x + bw for x in r6]\n",
        "r8 = [x + bw for x in r7]\n",
        "plt.bar(r1, x[:,0], bw, alpha = 0.5, color = 'r', label = 'original')\n",
        "plt.bar(r2, x_2d_hat[:,0], bw, alpha = 0.5, color = 'g', label = 'recovered')\n",
        "plt.bar(r3, x[:,1], bw, alpha = 0.5, color = 'r')\n",
        "plt.bar(r4, x_2d_hat[:,1], bw, alpha = 0.5, color = 'g')\n",
        "plt.bar(r5, x[:,2], bw, alpha = 0.5, color = 'r')\n",
        "plt.bar(r6, x_2d_hat[:,2], bw, alpha = 0.5, color = 'g')\n",
        "plt.bar(r7, x[:,3], bw, alpha = 0.5, color = 'r')\n",
        "plt.bar(r8, x_2d_hat[:,3], bw, alpha = 0.5, color = 'g')\n",
        "plt.show()"
      ],
      "metadata": {
        "colab": {
          "base_uri": "https://localhost:8080/",
          "height": 265
        },
        "id": "3XLYj6xM4wgw",
        "outputId": "db1a4b7f-abee-41e7-8726-cada51edc9b9"
      },
      "execution_count": null,
      "outputs": [
        {
          "output_type": "display_data",
          "data": {
            "text/plain": [
              "<Figure size 432x288 with 1 Axes>"
            ],
            "image/png": "[encoded data removed]"
          },
          "metadata": {
            "needs_background": "light"
          }
        }
      ]
    },
    {
      "cell_type": "code",
      "source": [
        "#2D and 3D plots"
      ],
      "metadata": {
        "id": "fFYfvfdb5Q8Y"
      },
      "execution_count": null,
      "outputs": []
    },
    {
      "cell_type": "code",
      "source": [
        "import plotly.express as px\n",
        "fig = px.scatter_matrix(x_2d_hat, labels= {\"feature 1\", \"feature 2\"}, dimensions = range(2))\n",
        "fig.show()"
      ],
      "metadata": {
        "colab": {
          "base_uri": "https://localhost:8080/",
          "height": 542
        },
        "id": "QQl_cWSQybM_",
        "outputId": "133f63b5-7058-452c-f23e-c559656accdf"
      },
      "execution_count": null,
      "outputs": [
        {
          "output_type": "display_data",
          "data": {
            "text/html": [
              "<html>\n",
              "<head><meta charset=\"utf-8\" /></head>\n",
              "<body>\n",
              "    <div>            <script src=\"https://cdnjs.cloudflare.com/ajax/libs/mathjax/2.7.5/MathJax.js?config=TeX-AMS-MML_SVG\"></script><script type=\"text/javascript\">if (window.MathJax) {MathJax.Hub.Config({SVG: {font: \"STIX-Web\"}});}</script>                <script type=\"text/javascript\">window.PlotlyConfig = {MathJaxConfig: 'local'};</script>\n",
              "        <script src=\"https://cdn.plot.ly/plotly-2.8.3.min.js\"></script>                <div id=\"6f13036e-a0c4-41b7-9aa4-7a084ac2ac35\" class=\"plotly-graph-div\" style=\"height:525px; width:100%;\"></div>            <script type=\"text/javascript\">                                    window.PLOTLYENV=window.PLOTLYENV || {};                                    if (document.getElementById(\"6f13036e-a0c4-41b7-9aa4-7a084ac2ac35\")) {                    Plotly.newPlot(                        \"6f13036e-a0c4-41b7-9aa4-7a084ac2ac35\",                        [{\"dimensions\":[{\"axis\":{\"matches\":true},\"label\":\"0\",\"values\":[77.54891253648721,83.42470509511799,76.29987273282948,80.25359700246416,82.31280139421315,85.93305236911094,90.42926743684188,81.53198233177528,79.65140089995904,86.89882152701242,72.92291497330412,73.42338354855895,86.83009579286342,89.10313297540617,78.00294501234285,65.48847678266543,67.04505386507066,66.26574844493005,80.52306349111072,78.3660214333658,77.89956804466198,79.31289199323744,82.568585698257,79.91117966773967,67.2726418074785,70.64513608925365,67.16981038586216,80.81811253046654,81.86799745412357,81.22882668348976]},{\"axis\":{\"matches\":true},\"label\":\"1\",\"values\":[136.00583529973443,177.00333503559392,163.99127170420525,185.00444334006175,187.00027046314636,171.00844891653387,211.00662331634547,157.99721929480333,176.00989978098835,174.99667135716163,138.99780565898672,124.00744395595802,149.00175712044867,224.0047230138714,149.0054139758778,166.0062715281768,132.00574894758614,172.99856629314928,154.9913909856184,201.99228655289477,154.9904067495536,160.99008337601842,158.0045893494198,155.99343692989532,157.00240841098167,173.00011280654925,158.99822225499142,160.00142066041673,161.99286093320987,177.99103198782157]}],\"hovertemplate\":\"%{xaxis.title.text}=%{x}<br>%{yaxis.title.text}=%{y}<extra></extra>\",\"legendgroup\":\"\",\"marker\":{\"color\":\"#636efa\",\"symbol\":\"circle\"},\"name\":\"\",\"showlegend\":false,\"type\":\"splom\"}],                        {\"template\":{\"data\":{\"bar\":[{\"error_x\":{\"color\":\"#2a3f5f\"},\"error_y\":{\"color\":\"#2a3f5f\"},\"marker\":{\"line\":{\"color\":\"#E5ECF6\",\"width\":0.5},\"pattern\":{\"fillmode\":\"overlay\",\"size\":10,\"solidity\":0.2}},\"type\":\"bar\"}],\"barpolar\":[{\"marker\":{\"line\":{\"color\":\"#E5ECF6\",\"width\":0.5},\"pattern\":{\"fillmode\":\"overlay\",\"size\":10,\"solidity\":0.2}},\"type\":\"barpolar\"}],\"carpet\":[{\"aaxis\":{\"endlinecolor\":\"#2a3f5f\",\"gridcolor\":\"white\",\"linecolor\":\"white\",\"minorgridcolor\":\"white\",\"startlinecolor\":\"#2a3f5f\"},\"baxis\":{\"endlinecolor\":\"#2a3f5f\",\"gridcolor\":\"white\",\"linecolor\":\"white\",\"minorgridcolor\":\"white\",\"startlinecolor\":\"#2a3f5f\"},\"type\":\"carpet\"}],\"choropleth\":[{\"colorbar\":{\"outlinewidth\":0,\"ticks\":\"\"},\"type\":\"choropleth\"}],\"contour\":[{\"colorbar\":{\"outlinewidth\":0,\"ticks\":\"\"},\"colorscale\":[[0.0,\"#0d0887\"],[0.1111111111111111,\"#46039f\"],[0.2222222222222222,\"#7201a8\"],[0.3333333333333333,\"#9c179e\"],[0.4444444444444444,\"#bd3786\"],[0.5555555555555556,\"#d8576b\"],[0.6666666666666666,\"#ed7953\"],[0.7777777777777778,\"#fb9f3a\"],[0.8888888888888888,\"#fdca26\"],[1.0,\"#f0f921\"]],\"type\":\"contour\"}],\"contourcarpet\":[{\"colorbar\":{\"outlinewidth\":0,\"ticks\":\"\"},\"type\":\"contourcarpet\"}],\"heatmap\":[{\"colorbar\":{\"outlinewidth\":0,\"ticks\":\"\"},\"colorscale\":[[0.0,\"#0d0887\"],[0.1111111111111111,\"#46039f\"],[0.2222222222222222,\"#7201a8\"],[0.3333333333333333,\"#9c179e\"],[0.4444444444444444,\"#bd3786\"],[0.5555555555555556,\"#d8576b\"],[0.6666666666666666,\"#ed7953\"],[0.7777777777777778,\"#fb9f3a\"],[0.8888888888888888,\"#fdca26\"],[1.0,\"#f0f921\"]],\"type\":\"heatmap\"}],\"heatmapgl\":[{\"colorbar\":{\"outlinewidth\":0,\"ticks\":\"\"},\"colorscale\":[[0.0,\"#0d0887\"],[0.1111111111111111,\"#46039f\"],[0.2222222222222222,\"#7201a8\"],[0.3333333333333333,\"#9c179e\"],[0.4444444444444444,\"#bd3786\"],[0.5555555555555556,\"#d8576b\"],[0.6666666666666666,\"#ed7953\"],[0.7777777777777778,\"#fb9f3a\"],[0.8888888888888888,\"#fdca26\"],[1.0,\"#f0f921\"]],\"type\":\"heatmapgl\"}],\"histogram\":[{\"marker\":{\"pattern\":{\"fillmode\":\"overlay\",\"size\":10,\"solidity\":0.2}},\"type\":\"histogram\"}],\"histogram2d\":[{\"colorbar\":{\"outlinewidth\":0,\"ticks\":\"\"},\"colorscale\":[[0.0,\"#0d0887\"],[0.1111111111111111,\"#46039f\"],[0.2222222222222222,\"#7201a8\"],[0.3333333333333333,\"#9c179e\"],[0.4444444444444444,\"#bd3786\"],[0.5555555555555556,\"#d8576b\"],[0.6666666666666666,\"#ed7953\"],[0.7777777777777778,\"#fb9f3a\"],[0.8888888888888888,\"#fdca26\"],[1.0,\"#f0f921\"]],\"type\":\"histogram2d\"}],\"histogram2dcontour\":[{\"colorbar\":{\"outlinewidth\":0,\"ticks\":\"\"},\"colorscale\":[[0.0,\"#0d0887\"],[0.1111111111111111,\"#46039f\"],[0.2222222222222222,\"#7201a8\"],[0.3333333333333333,\"#9c179e\"],[0.4444444444444444,\"#bd3786\"],[0.5555555555555556,\"#d8576b\"],[0.6666666666666666,\"#ed7953\"],[0.7777777777777778,\"#fb9f3a\"],[0.8888888888888888,\"#fdca26\"],[1.0,\"#f0f921\"]],\"type\":\"histogram2dcontour\"}],\"mesh3d\":[{\"colorbar\":{\"outlinewidth\":0,\"ticks\":\"\"},\"type\":\"mesh3d\"}],\"parcoords\":[{\"line\":{\"colorbar\":{\"outlinewidth\":0,\"ticks\":\"\"}},\"type\":\"parcoords\"}],\"pie\":[{\"automargin\":true,\"type\":\"pie\"}],\"scatter\":[{\"marker\":{\"colorbar\":{\"outlinewidth\":0,\"ticks\":\"\"}},\"type\":\"scatter\"}],\"scatter3d\":[{\"line\":{\"colorbar\":{\"outlinewidth\":0,\"ticks\":\"\"}},\"marker\":{\"colorbar\":{\"outlinewidth\":0,\"ticks\":\"\"}},\"type\":\"scatter3d\"}],\"scattercarpet\":[{\"marker\":{\"colorbar\":{\"outlinewidth\":0,\"ticks\":\"\"}},\"type\":\"scattercarpet\"}],\"scattergeo\":[{\"marker\":{\"colorbar\":{\"outlinewidth\":0,\"ticks\":\"\"}},\"type\":\"scattergeo\"}],\"scattergl\":[{\"marker\":{\"colorbar\":{\"outlinewidth\":0,\"ticks\":\"\"}},\"type\":\"scattergl\"}],\"scattermapbox\":[{\"marker\":{\"colorbar\":{\"outlinewidth\":0,\"ticks\":\"\"}},\"type\":\"scattermapbox\"}],\"scatterpolar\":[{\"marker\":{\"colorbar\":{\"outlinewidth\":0,\"ticks\":\"\"}},\"type\":\"scatterpolar\"}],\"scatterpolargl\":[{\"marker\":{\"colorbar\":{\"outlinewidth\":0,\"ticks\":\"\"}},\"type\":\"scatterpolargl\"}],\"scatterternary\":[{\"marker\":{\"colorbar\":{\"outlinewidth\":0,\"ticks\":\"\"}},\"type\":\"scatterternary\"}],\"surface\":[{\"colorbar\":{\"outlinewidth\":0,\"ticks\":\"\"},\"colorscale\":[[0.0,\"#0d0887\"],[0.1111111111111111,\"#46039f\"],[0.2222222222222222,\"#7201a8\"],[0.3333333333333333,\"#9c179e\"],[0.4444444444444444,\"#bd3786\"],[0.5555555555555556,\"#d8576b\"],[0.6666666666666666,\"#ed7953\"],[0.7777777777777778,\"#fb9f3a\"],[0.8888888888888888,\"#fdca26\"],[1.0,\"#f0f921\"]],\"type\":\"surface\"}],\"table\":[{\"cells\":{\"fill\":{\"color\":\"#EBF0F8\"},\"line\":{\"color\":\"white\"}},\"header\":{\"fill\":{\"color\":\"#C8D4E3\"},\"line\":{\"color\":\"white\"}},\"type\":\"table\"}]},\"layout\":{\"annotationdefaults\":{\"arrowcolor\":\"#2a3f5f\",\"arrowhead\":0,\"arrowwidth\":1},\"autotypenumbers\":\"strict\",\"coloraxis\":{\"colorbar\":{\"outlinewidth\":0,\"ticks\":\"\"}},\"colorscale\":{\"diverging\":[[0,\"#8e0152\"],[0.1,\"#c51b7d\"],[0.2,\"#de77ae\"],[0.3,\"#f1b6da\"],[0.4,\"#fde0ef\"],[0.5,\"#f7f7f7\"],[0.6,\"#e6f5d0\"],[0.7,\"#b8e186\"],[0.8,\"#7fbc41\"],[0.9,\"#4d9221\"],[1,\"#276419\"]],\"sequential\":[[0.0,\"#0d0887\"],[0.1111111111111111,\"#46039f\"],[0.2222222222222222,\"#7201a8\"],[0.3333333333333333,\"#9c179e\"],[0.4444444444444444,\"#bd3786\"],[0.5555555555555556,\"#d8576b\"],[0.6666666666666666,\"#ed7953\"],[0.7777777777777778,\"#fb9f3a\"],[0.8888888888888888,\"#fdca26\"],[1.0,\"#f0f921\"]],\"sequentialminus\":[[0.0,\"#0d0887\"],[0.1111111111111111,\"#46039f\"],[0.2222222222222222,\"#7201a8\"],[0.3333333333333333,\"#9c179e\"],[0.4444444444444444,\"#bd3786\"],[0.5555555555555556,\"#d8576b\"],[0.6666666666666666,\"#ed7953\"],[0.7777777777777778,\"#fb9f3a\"],[0.8888888888888888,\"#fdca26\"],[1.0,\"#f0f921\"]]},\"colorway\":[\"#636efa\",\"#EF553B\",\"#00cc96\",\"#ab63fa\",\"#FFA15A\",\"#19d3f3\",\"#FF6692\",\"#B6E880\",\"#FF97FF\",\"#FECB52\"],\"font\":{\"color\":\"#2a3f5f\"},\"geo\":{\"bgcolor\":\"white\",\"lakecolor\":\"white\",\"landcolor\":\"#E5ECF6\",\"showlakes\":true,\"showland\":true,\"subunitcolor\":\"white\"},\"hoverlabel\":{\"align\":\"left\"},\"hovermode\":\"closest\",\"mapbox\":{\"style\":\"light\"},\"paper_bgcolor\":\"white\",\"plot_bgcolor\":\"#E5ECF6\",\"polar\":{\"angularaxis\":{\"gridcolor\":\"white\",\"linecolor\":\"white\",\"ticks\":\"\"},\"bgcolor\":\"#E5ECF6\",\"radialaxis\":{\"gridcolor\":\"white\",\"linecolor\":\"white\",\"ticks\":\"\"}},\"scene\":{\"xaxis\":{\"backgroundcolor\":\"#E5ECF6\",\"gridcolor\":\"white\",\"gridwidth\":2,\"linecolor\":\"white\",\"showbackground\":true,\"ticks\":\"\",\"zerolinecolor\":\"white\"},\"yaxis\":{\"backgroundcolor\":\"#E5ECF6\",\"gridcolor\":\"white\",\"gridwidth\":2,\"linecolor\":\"white\",\"showbackground\":true,\"ticks\":\"\",\"zerolinecolor\":\"white\"},\"zaxis\":{\"backgroundcolor\":\"#E5ECF6\",\"gridcolor\":\"white\",\"gridwidth\":2,\"linecolor\":\"white\",\"showbackground\":true,\"ticks\":\"\",\"zerolinecolor\":\"white\"}},\"shapedefaults\":{\"line\":{\"color\":\"#2a3f5f\"}},\"ternary\":{\"aaxis\":{\"gridcolor\":\"white\",\"linecolor\":\"white\",\"ticks\":\"\"},\"baxis\":{\"gridcolor\":\"white\",\"linecolor\":\"white\",\"ticks\":\"\"},\"bgcolor\":\"#E5ECF6\",\"caxis\":{\"gridcolor\":\"white\",\"linecolor\":\"white\",\"ticks\":\"\"}},\"title\":{\"x\":0.05},\"xaxis\":{\"automargin\":true,\"gridcolor\":\"white\",\"linecolor\":\"white\",\"ticks\":\"\",\"title\":{\"standoff\":15},\"zerolinecolor\":\"white\",\"zerolinewidth\":2},\"yaxis\":{\"automargin\":true,\"gridcolor\":\"white\",\"linecolor\":\"white\",\"ticks\":\"\",\"title\":{\"standoff\":15},\"zerolinecolor\":\"white\",\"zerolinewidth\":2}}},\"legend\":{\"tracegroupgap\":0},\"margin\":{\"t\":60},\"dragmode\":\"select\"},                        {\"responsive\": true}                    ).then(function(){\n",
              "                            \n",
              "var gd = document.getElementById('6f13036e-a0c4-41b7-9aa4-7a084ac2ac35');\n",
              "var x = new MutationObserver(function (mutations, observer) {{\n",
              "        var display = window.getComputedStyle(gd).display;\n",
              "        if (!display || display === 'none') {{\n",
              "            console.log([gd, 'removed!']);\n",
              "            Plotly.purge(gd);\n",
              "            observer.disconnect();\n",
              "        }}\n",
              "}});\n",
              "\n",
              "// Listen for the removal of the full notebook cells\n",
              "var notebookContainer = gd.closest('#notebook-container');\n",
              "if (notebookContainer) {{\n",
              "    x.observe(notebookContainer, {childList: true});\n",
              "}}\n",
              "\n",
              "// Listen for the clearing of the current output cell\n",
              "var outputEl = gd.closest('.output');\n",
              "if (outputEl) {{\n",
              "    x.observe(outputEl, {childList: true});\n",
              "}}\n",
              "\n",
              "                        })                };                            </script>        </div>\n",
              "</body>\n",
              "</html>"
            ]
          },
          "metadata": {}
        }
      ]
    },
    {
      "cell_type": "code",
      "source": [
        "fig = px.scatter_matrix(x_3d_hat, labels= [\"feature 1\", \"feature 2\", \"feature 3\"], dimensions = range(3))\n",
        "fig.show()"
      ],
      "metadata": {
        "colab": {
          "base_uri": "https://localhost:8080/",
          "height": 542
        },
        "id": "UnzBqQAK0ubi",
        "outputId": "29406a02-222e-4b9a-d61f-c2d7f8a5b5e2"
      },
      "execution_count": null,
      "outputs": [
        {
          "output_type": "display_data",
          "data": {
            "text/html": [
              "<html>\n",
              "<head><meta charset=\"utf-8\" /></head>\n",
              "<body>\n",
              "    <div>            <script src=\"https://cdnjs.cloudflare.com/ajax/libs/mathjax/2.7.5/MathJax.js?config=TeX-AMS-MML_SVG\"></script><script type=\"text/javascript\">if (window.MathJax) {MathJax.Hub.Config({SVG: {font: \"STIX-Web\"}});}</script>                <script type=\"text/javascript\">window.PlotlyConfig = {MathJaxConfig: 'local'};</script>\n",
              "        <script src=\"https://cdn.plot.ly/plotly-2.8.3.min.js\"></script>                <div id=\"7cc6ad65-fec0-40f9-b7ca-2e2b2154ff37\" class=\"plotly-graph-div\" style=\"height:525px; width:100%;\"></div>            <script type=\"text/javascript\">                                    window.PLOTLYENV=window.PLOTLYENV || {};                                    if (document.getElementById(\"7cc6ad65-fec0-40f9-b7ca-2e2b2154ff37\")) {                    Plotly.newPlot(                        \"7cc6ad65-fec0-40f9-b7ca-2e2b2154ff37\",                        [{\"dimensions\":[{\"axis\":{\"matches\":true},\"label\":\"0\",\"values\":[77.60621083162862,83.45682362269545,76.2103868017477,80.2984363706753,82.31301234505388,86.0148827490897,90.4963577256481,81.50344695505038,79.75053170109454,86.86296502120389,72.9007712569977,73.49832227140412,86.84807801201057,89.15039869660936,78.05605080725661,65.55112490067481,67.10224798286018,66.25115534201004,80.4389012899252,78.29052433606024,77.80285846593347,79.21131602020235,82.6202954385968,79.84613556187385,67.29730158038699,70.6468684997388,67.15166987124663,80.83519702419662,81.79701141855558,81.14071709957254]},{\"axis\":{\"matches\":true},\"label\":\"1\",\"values\":[136.00011904798947,177.00013079384718,164.0001990921569,184.99997002866309,187.00024941805054,171.0002852695843,210.99993018560724,158.0000660705511,176.00001019154118,175.00024851095634,139.00001478330122,123.99996784163085,148.9999631597152,224.0000076421376,149.00011598067402,166.00002156187315,132.00004308888984,173.00002214536661,154.9997872621254,201.999818372352,155.00005479050836,161.00021690323203,157.99943062885544,155.99992592721605,156.99994827722776,172.99993997602377,159.00003200776104,159.99971625949422,161.9999427154633,177.99982206720478]},{\"axis\":{\"matches\":true},\"label\":\"2\",\"values\":[9.812449130391927,9.938477157211869,10.791674875823597,9.719102059234727,10.11034800245106,9.639269874314538,9.654733482326439,10.470157789474312,9.323907055544515,10.569110210358984,10.310172826454737,9.636117704080133,10.279728909721943,9.710428219818816,9.788263568517266,9.319422651800412,9.578797739595622,9.910218868592446,10.899704608346523,10.532156641985626,10.93476539905002,10.97597930700539,9.863054100132851,10.728922616070726,9.70942073690329,9.888093175813932,10.03367678084043,10.08281665801596,10.791831328591645,10.827198521530297]}],\"hovertemplate\":\"%{xaxis.title.text}=%{x}<br>%{yaxis.title.text}=%{y}<extra></extra>\",\"legendgroup\":\"\",\"marker\":{\"color\":\"#636efa\",\"symbol\":\"circle\"},\"name\":\"\",\"showlegend\":false,\"type\":\"splom\"}],                        {\"template\":{\"data\":{\"bar\":[{\"error_x\":{\"color\":\"#2a3f5f\"},\"error_y\":{\"color\":\"#2a3f5f\"},\"marker\":{\"line\":{\"color\":\"#E5ECF6\",\"width\":0.5},\"pattern\":{\"fillmode\":\"overlay\",\"size\":10,\"solidity\":0.2}},\"type\":\"bar\"}],\"barpolar\":[{\"marker\":{\"line\":{\"color\":\"#E5ECF6\",\"width\":0.5},\"pattern\":{\"fillmode\":\"overlay\",\"size\":10,\"solidity\":0.2}},\"type\":\"barpolar\"}],\"carpet\":[{\"aaxis\":{\"endlinecolor\":\"#2a3f5f\",\"gridcolor\":\"white\",\"linecolor\":\"white\",\"minorgridcolor\":\"white\",\"startlinecolor\":\"#2a3f5f\"},\"baxis\":{\"endlinecolor\":\"#2a3f5f\",\"gridcolor\":\"white\",\"linecolor\":\"white\",\"minorgridcolor\":\"white\",\"startlinecolor\":\"#2a3f5f\"},\"type\":\"carpet\"}],\"choropleth\":[{\"colorbar\":{\"outlinewidth\":0,\"ticks\":\"\"},\"type\":\"choropleth\"}],\"contour\":[{\"colorbar\":{\"outlinewidth\":0,\"ticks\":\"\"},\"colorscale\":[[0.0,\"#0d0887\"],[0.1111111111111111,\"#46039f\"],[0.2222222222222222,\"#7201a8\"],[0.3333333333333333,\"#9c179e\"],[0.4444444444444444,\"#bd3786\"],[0.5555555555555556,\"#d8576b\"],[0.6666666666666666,\"#ed7953\"],[0.7777777777777778,\"#fb9f3a\"],[0.8888888888888888,\"#fdca26\"],[1.0,\"#f0f921\"]],\"type\":\"contour\"}],\"contourcarpet\":[{\"colorbar\":{\"outlinewidth\":0,\"ticks\":\"\"},\"type\":\"contourcarpet\"}],\"heatmap\":[{\"colorbar\":{\"outlinewidth\":0,\"ticks\":\"\"},\"colorscale\":[[0.0,\"#0d0887\"],[0.1111111111111111,\"#46039f\"],[0.2222222222222222,\"#7201a8\"],[0.3333333333333333,\"#9c179e\"],[0.4444444444444444,\"#bd3786\"],[0.5555555555555556,\"#d8576b\"],[0.6666666666666666,\"#ed7953\"],[0.7777777777777778,\"#fb9f3a\"],[0.8888888888888888,\"#fdca26\"],[1.0,\"#f0f921\"]],\"type\":\"heatmap\"}],\"heatmapgl\":[{\"colorbar\":{\"outlinewidth\":0,\"ticks\":\"\"},\"colorscale\":[[0.0,\"#0d0887\"],[0.1111111111111111,\"#46039f\"],[0.2222222222222222,\"#7201a8\"],[0.3333333333333333,\"#9c179e\"],[0.4444444444444444,\"#bd3786\"],[0.5555555555555556,\"#d8576b\"],[0.6666666666666666,\"#ed7953\"],[0.7777777777777778,\"#fb9f3a\"],[0.8888888888888888,\"#fdca26\"],[1.0,\"#f0f921\"]],\"type\":\"heatmapgl\"}],\"histogram\":[{\"marker\":{\"pattern\":{\"fillmode\":\"overlay\",\"size\":10,\"solidity\":0.2}},\"type\":\"histogram\"}],\"histogram2d\":[{\"colorbar\":{\"outlinewidth\":0,\"ticks\":\"\"},\"colorscale\":[[0.0,\"#0d0887\"],[0.1111111111111111,\"#46039f\"],[0.2222222222222222,\"#7201a8\"],[0.3333333333333333,\"#9c179e\"],[0.4444444444444444,\"#bd3786\"],[0.5555555555555556,\"#d8576b\"],[0.6666666666666666,\"#ed7953\"],[0.7777777777777778,\"#fb9f3a\"],[0.8888888888888888,\"#fdca26\"],[1.0,\"#f0f921\"]],\"type\":\"histogram2d\"}],\"histogram2dcontour\":[{\"colorbar\":{\"outlinewidth\":0,\"ticks\":\"\"},\"colorscale\":[[0.0,\"#0d0887\"],[0.1111111111111111,\"#46039f\"],[0.2222222222222222,\"#7201a8\"],[0.3333333333333333,\"#9c179e\"],[0.4444444444444444,\"#bd3786\"],[0.5555555555555556,\"#d8576b\"],[0.6666666666666666,\"#ed7953\"],[0.7777777777777778,\"#fb9f3a\"],[0.8888888888888888,\"#fdca26\"],[1.0,\"#f0f921\"]],\"type\":\"histogram2dcontour\"}],\"mesh3d\":[{\"colorbar\":{\"outlinewidth\":0,\"ticks\":\"\"},\"type\":\"mesh3d\"}],\"parcoords\":[{\"line\":{\"colorbar\":{\"outlinewidth\":0,\"ticks\":\"\"}},\"type\":\"parcoords\"}],\"pie\":[{\"automargin\":true,\"type\":\"pie\"}],\"scatter\":[{\"marker\":{\"colorbar\":{\"outlinewidth\":0,\"ticks\":\"\"}},\"type\":\"scatter\"}],\"scatter3d\":[{\"line\":{\"colorbar\":{\"outlinewidth\":0,\"ticks\":\"\"}},\"marker\":{\"colorbar\":{\"outlinewidth\":0,\"ticks\":\"\"}},\"type\":\"scatter3d\"}],\"scattercarpet\":[{\"marker\":{\"colorbar\":{\"outlinewidth\":0,\"ticks\":\"\"}},\"type\":\"scattercarpet\"}],\"scattergeo\":[{\"marker\":{\"colorbar\":{\"outlinewidth\":0,\"ticks\":\"\"}},\"type\":\"scattergeo\"}],\"scattergl\":[{\"marker\":{\"colorbar\":{\"outlinewidth\":0,\"ticks\":\"\"}},\"type\":\"scattergl\"}],\"scattermapbox\":[{\"marker\":{\"colorbar\":{\"outlinewidth\":0,\"ticks\":\"\"}},\"type\":\"scattermapbox\"}],\"scatterpolar\":[{\"marker\":{\"colorbar\":{\"outlinewidth\":0,\"ticks\":\"\"}},\"type\":\"scatterpolar\"}],\"scatterpolargl\":[{\"marker\":{\"colorbar\":{\"outlinewidth\":0,\"ticks\":\"\"}},\"type\":\"scatterpolargl\"}],\"scatterternary\":[{\"marker\":{\"colorbar\":{\"outlinewidth\":0,\"ticks\":\"\"}},\"type\":\"scatterternary\"}],\"surface\":[{\"colorbar\":{\"outlinewidth\":0,\"ticks\":\"\"},\"colorscale\":[[0.0,\"#0d0887\"],[0.1111111111111111,\"#46039f\"],[0.2222222222222222,\"#7201a8\"],[0.3333333333333333,\"#9c179e\"],[0.4444444444444444,\"#bd3786\"],[0.5555555555555556,\"#d8576b\"],[0.6666666666666666,\"#ed7953\"],[0.7777777777777778,\"#fb9f3a\"],[0.8888888888888888,\"#fdca26\"],[1.0,\"#f0f921\"]],\"type\":\"surface\"}],\"table\":[{\"cells\":{\"fill\":{\"color\":\"#EBF0F8\"},\"line\":{\"color\":\"white\"}},\"header\":{\"fill\":{\"color\":\"#C8D4E3\"},\"line\":{\"color\":\"white\"}},\"type\":\"table\"}]},\"layout\":{\"annotationdefaults\":{\"arrowcolor\":\"#2a3f5f\",\"arrowhead\":0,\"arrowwidth\":1},\"autotypenumbers\":\"strict\",\"coloraxis\":{\"colorbar\":{\"outlinewidth\":0,\"ticks\":\"\"}},\"colorscale\":{\"diverging\":[[0,\"#8e0152\"],[0.1,\"#c51b7d\"],[0.2,\"#de77ae\"],[0.3,\"#f1b6da\"],[0.4,\"#fde0ef\"],[0.5,\"#f7f7f7\"],[0.6,\"#e6f5d0\"],[0.7,\"#b8e186\"],[0.8,\"#7fbc41\"],[0.9,\"#4d9221\"],[1,\"#276419\"]],\"sequential\":[[0.0,\"#0d0887\"],[0.1111111111111111,\"#46039f\"],[0.2222222222222222,\"#7201a8\"],[0.3333333333333333,\"#9c179e\"],[0.4444444444444444,\"#bd3786\"],[0.5555555555555556,\"#d8576b\"],[0.6666666666666666,\"#ed7953\"],[0.7777777777777778,\"#fb9f3a\"],[0.8888888888888888,\"#fdca26\"],[1.0,\"#f0f921\"]],\"sequentialminus\":[[0.0,\"#0d0887\"],[0.1111111111111111,\"#46039f\"],[0.2222222222222222,\"#7201a8\"],[0.3333333333333333,\"#9c179e\"],[0.4444444444444444,\"#bd3786\"],[0.5555555555555556,\"#d8576b\"],[0.6666666666666666,\"#ed7953\"],[0.7777777777777778,\"#fb9f3a\"],[0.8888888888888888,\"#fdca26\"],[1.0,\"#f0f921\"]]},\"colorway\":[\"#636efa\",\"#EF553B\",\"#00cc96\",\"#ab63fa\",\"#FFA15A\",\"#19d3f3\",\"#FF6692\",\"#B6E880\",\"#FF97FF\",\"#FECB52\"],\"font\":{\"color\":\"#2a3f5f\"},\"geo\":{\"bgcolor\":\"white\",\"lakecolor\":\"white\",\"landcolor\":\"#E5ECF6\",\"showlakes\":true,\"showland\":true,\"subunitcolor\":\"white\"},\"hoverlabel\":{\"align\":\"left\"},\"hovermode\":\"closest\",\"mapbox\":{\"style\":\"light\"},\"paper_bgcolor\":\"white\",\"plot_bgcolor\":\"#E5ECF6\",\"polar\":{\"angularaxis\":{\"gridcolor\":\"white\",\"linecolor\":\"white\",\"ticks\":\"\"},\"bgcolor\":\"#E5ECF6\",\"radialaxis\":{\"gridcolor\":\"white\",\"linecolor\":\"white\",\"ticks\":\"\"}},\"scene\":{\"xaxis\":{\"backgroundcolor\":\"#E5ECF6\",\"gridcolor\":\"white\",\"gridwidth\":2,\"linecolor\":\"white\",\"showbackground\":true,\"ticks\":\"\",\"zerolinecolor\":\"white\"},\"yaxis\":{\"backgroundcolor\":\"#E5ECF6\",\"gridcolor\":\"white\",\"gridwidth\":2,\"linecolor\":\"white\",\"showbackground\":true,\"ticks\":\"\",\"zerolinecolor\":\"white\"},\"zaxis\":{\"backgroundcolor\":\"#E5ECF6\",\"gridcolor\":\"white\",\"gridwidth\":2,\"linecolor\":\"white\",\"showbackground\":true,\"ticks\":\"\",\"zerolinecolor\":\"white\"}},\"shapedefaults\":{\"line\":{\"color\":\"#2a3f5f\"}},\"ternary\":{\"aaxis\":{\"gridcolor\":\"white\",\"linecolor\":\"white\",\"ticks\":\"\"},\"baxis\":{\"gridcolor\":\"white\",\"linecolor\":\"white\",\"ticks\":\"\"},\"bgcolor\":\"#E5ECF6\",\"caxis\":{\"gridcolor\":\"white\",\"linecolor\":\"white\",\"ticks\":\"\"}},\"title\":{\"x\":0.05},\"xaxis\":{\"automargin\":true,\"gridcolor\":\"white\",\"linecolor\":\"white\",\"ticks\":\"\",\"title\":{\"standoff\":15},\"zerolinecolor\":\"white\",\"zerolinewidth\":2},\"yaxis\":{\"automargin\":true,\"gridcolor\":\"white\",\"linecolor\":\"white\",\"ticks\":\"\",\"title\":{\"standoff\":15},\"zerolinecolor\":\"white\",\"zerolinewidth\":2}}},\"legend\":{\"tracegroupgap\":0},\"margin\":{\"t\":60},\"dragmode\":\"select\"},                        {\"responsive\": true}                    ).then(function(){\n",
              "                            \n",
              "var gd = document.getElementById('7cc6ad65-fec0-40f9-b7ca-2e2b2154ff37');\n",
              "var x = new MutationObserver(function (mutations, observer) {{\n",
              "        var display = window.getComputedStyle(gd).display;\n",
              "        if (!display || display === 'none') {{\n",
              "            console.log([gd, 'removed!']);\n",
              "            Plotly.purge(gd);\n",
              "            observer.disconnect();\n",
              "        }}\n",
              "}});\n",
              "\n",
              "// Listen for the removal of the full notebook cells\n",
              "var notebookContainer = gd.closest('#notebook-container');\n",
              "if (notebookContainer) {{\n",
              "    x.observe(notebookContainer, {childList: true});\n",
              "}}\n",
              "\n",
              "// Listen for the clearing of the current output cell\n",
              "var outputEl = gd.closest('.output');\n",
              "if (outputEl) {{\n",
              "    x.observe(outputEl, {childList: true});\n",
              "}}\n",
              "\n",
              "                        })                };                            </script>        </div>\n",
              "</body>\n",
              "</html>"
            ]
          },
          "metadata": {}
        }
      ]
    },
    {
      "cell_type": "code",
      "source": [],
      "metadata": {
        "id": "czo3qZlA07L1"
      },
      "execution_count": null,
      "outputs": []
    }
  ]
}